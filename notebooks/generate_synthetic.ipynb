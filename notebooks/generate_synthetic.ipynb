{
 "cells": [
  {
   "cell_type": "markdown",
   "metadata": {},
   "source": [
    "# <center>Univariate Synthetic Dataset Generator</center>"
   ]
  },
  {
   "cell_type": "code",
   "execution_count": null,
   "metadata": {},
   "outputs": [],
   "source": [
    "import os\n",
    "import random\n",
    "\n",
    "import numpy as np\n",
    "import matplotlib.pyplot as plt"
   ]
  },
  {
   "cell_type": "markdown",
   "metadata": {},
   "source": [
    "## Hyperparameters"
   ]
  },
  {
   "cell_type": "code",
   "execution_count": null,
   "metadata": {},
   "outputs": [],
   "source": [
    "random.seed(0)\n",
    "np.random.seed(0)"
   ]
  },
  {
   "cell_type": "code",
   "execution_count": null,
   "metadata": {},
   "outputs": [],
   "source": [
    "LEN_ENC = 96\n",
    "LEN_LABEL = 48\n",
    "LEN_PRED = 192\n",
    "DATADIR = '/usr2/home/yongyiw/data/synth'\n",
    "SAVE = True\n",
    "SAVEDIR = 'img'"
   ]
  },
  {
   "cell_type": "code",
   "execution_count": null,
   "metadata": {},
   "outputs": [],
   "source": [
    "t = np.linspace(-1024, 1024, num=8192)\n",
    "\n",
    "def save(x, name): \n",
    "    if SAVE: \n",
    "        np.save(os.path.join(DATADIR, '{}.npy'.format(name)), x.reshape(-1, 1))"
   ]
  },
  {
   "cell_type": "markdown",
   "metadata": {},
   "source": [
    "## No Trend"
   ]
  },
  {
   "cell_type": "markdown",
   "metadata": {},
   "source": [
    "### `sinx`"
   ]
  },
  {
   "cell_type": "code",
   "execution_count": null,
   "metadata": {},
   "outputs": [],
   "source": [
    "name = 'sinx'\n",
    "x = 10 * np.sin(t) + np.random.normal(size=t.shape)\n",
    "save(x, name)\n",
    "\n",
    "x_plt = x[:LEN_ENC + LEN_PRED]\n",
    "plt.plot(t[:LEN_ENC + LEN_PRED], x_plt)\n",
    "plt.vlines(t[LEN_ENC], ymin=min(x_plt), ymax=max(x_plt))\n",
    "plt.title(name)\n",
    "if SAVE: \n",
    "    plt.savefig(os.path.join(SAVEDIR, 'data_{}.png'.format(name)))\n",
    "plt.show()"
   ]
  },
  {
   "cell_type": "code",
   "execution_count": null,
   "metadata": {},
   "outputs": [],
   "source": [
    "len(t) // 2"
   ]
  },
  {
   "cell_type": "markdown",
   "metadata": {},
   "source": [
    "### `sinx_sin2x_sin4x`"
   ]
  },
  {
   "cell_type": "code",
   "execution_count": null,
   "metadata": {},
   "outputs": [],
   "source": [
    "name = 'sinx_sin2x_sin4x'\n",
    "x = 10 * (np.sin(t) + np.sin(2 * t) + np.sin(4 * t)) + np.random.normal(size=t.shape)\n",
    "save(x, name)\n",
    "\n",
    "x_plt = x[:LEN_ENC + LEN_PRED]\n",
    "plt.plot(t[:LEN_ENC + LEN_PRED], x_plt)\n",
    "plt.vlines(t[LEN_ENC], ymin=min(x_plt), ymax=max(x_plt))\n",
    "plt.title(name)\n",
    "if SAVE: \n",
    "    plt.savefig(os.path.join(SAVEDIR, 'data_{}.png'.format(name)))\n",
    "plt.show()"
   ]
  },
  {
   "cell_type": "markdown",
   "metadata": {},
   "source": [
    "### `xsinx`"
   ]
  },
  {
   "cell_type": "code",
   "execution_count": null,
   "metadata": {},
   "outputs": [],
   "source": [
    "name = 'xsinx'\n",
    "a = np.tile(np.exp(np.linspace(0, 4, 512)), len(t) // 512)\n",
    "x = a * (10 * np.sin(t) + np.random.normal(size=t.shape))\n",
    "save(x, name)\n",
    "\n",
    "x_plt = x[:LEN_ENC + LEN_PRED]\n",
    "plt.plot(t[:LEN_ENC + LEN_PRED], x_plt)\n",
    "plt.vlines(t[LEN_ENC], ymin=min(x_plt), ymax=max(x_plt))\n",
    "plt.title(name)\n",
    "if SAVE: \n",
    "    plt.savefig(os.path.join(SAVEDIR, 'data_{}.png'.format(name)))\n",
    "plt.show()"
   ]
  },
  {
   "cell_type": "markdown",
   "metadata": {},
   "source": [
    "### `sinx_c`"
   ]
  },
  {
   "cell_type": "code",
   "execution_count": null,
   "metadata": {},
   "outputs": [],
   "source": [
    "name = 'sinx_c'\n",
    "x = 10 * np.sin(t) + np.tile(np.repeat([-30, 30], 32), len(t) // 64) + np.random.normal(size=t.shape)\n",
    "save(x, name)\n",
    "\n",
    "x_plt = x[:LEN_ENC + LEN_PRED]\n",
    "plt.plot(t[:LEN_ENC + LEN_PRED], x_plt)\n",
    "plt.vlines(t[LEN_ENC], ymin=min(x_plt), ymax=max(x_plt))\n",
    "plt.title(name)\n",
    "if SAVE: \n",
    "    plt.savefig(os.path.join(SAVEDIR, 'data_{}.png'.format(name)))\n",
    "plt.show()"
   ]
  },
  {
   "cell_type": "markdown",
   "metadata": {},
   "source": [
    "## Trend"
   ]
  },
  {
   "cell_type": "markdown",
   "metadata": {},
   "source": [
    "### `x`"
   ]
  },
  {
   "cell_type": "code",
   "execution_count": null,
   "metadata": {},
   "outputs": [],
   "source": [
    "name = 'x'\n",
    "x = t + np.random.normal(size=t.shape)\n",
    "save(x, name)\n",
    "\n",
    "x_plt = x\n",
    "plt.plot(t, x_plt)\n",
    "plt.title(name)\n",
    "plt.vlines(np.min(t) + len(t) * 0.25 * 0.7, ymin=min(x_plt), ymax=max(x_plt))\n",
    "plt.vlines(np.min(t) + len(t) * 0.25 * 0.8, ymin=min(x_plt), ymax=max(x_plt))\n",
    "if SAVE: \n",
    "    plt.savefig(os.path.join(SAVEDIR, 'data_{}.png'.format(name)))\n",
    "plt.show()"
   ]
  },
  {
   "cell_type": "markdown",
   "metadata": {},
   "source": [
    "### `sinx_x`"
   ]
  },
  {
   "cell_type": "code",
   "execution_count": null,
   "metadata": {},
   "outputs": [],
   "source": [
    "name = 'sinx_x'\n",
    "x = t + 10 * np.sin(t) + np.random.normal(size=t.shape)\n",
    "save(x, name)\n",
    "\n",
    "x_plt = x\n",
    "plt.plot(t, x_plt)\n",
    "plt.title(name)\n",
    "plt.vlines(np.min(t) + len(t) * 0.25 * 0.7, ymin=min(x_plt), ymax=max(x_plt))\n",
    "plt.vlines(np.min(t) + len(t) * 0.25 * 0.8, ymin=min(x_plt), ymax=max(x_plt))\n",
    "if SAVE: \n",
    "    plt.savefig(os.path.join(SAVEDIR, 'data_{}.png'.format(name)))\n",
    "plt.show()"
   ]
  },
  {
   "cell_type": "markdown",
   "metadata": {},
   "source": [
    "### `sinx_x2_sym`"
   ]
  },
  {
   "cell_type": "code",
   "execution_count": null,
   "metadata": {},
   "outputs": [],
   "source": [
    "name = 'sinx_x2_sym'\n",
    "x = (t/50) ** 2 + 10 * np.sin(t) + np.random.normal(size=t.shape)\n",
    "save(x, name)\n",
    "\n",
    "x_plt = x\n",
    "plt.plot(t, x_plt)\n",
    "plt.title(name)\n",
    "plt.vlines(np.min(t) + len(t) * 0.25 * 0.7, ymin=min(x_plt), ymax=max(x_plt))\n",
    "plt.vlines(np.min(t) + len(t) * 0.25 * 0.8, ymin=min(x_plt), ymax=max(x_plt))\n",
    "if SAVE: \n",
    "    plt.savefig(os.path.join(SAVEDIR, 'data_{}.png'.format(name)))\n",
    "plt.show()"
   ]
  },
  {
   "cell_type": "markdown",
   "metadata": {},
   "source": [
    "### `sinx_x2_asym`"
   ]
  },
  {
   "cell_type": "code",
   "execution_count": null,
   "metadata": {},
   "outputs": [],
   "source": [
    "name = 'sinx_x2_asym'\n",
    "x = ((t - np.min(t))/30) ** 2 + 10 * np.sin(t) + np.random.normal(size=t.shape)\n",
    "save(x, name)\n",
    "\n",
    "x_plt = x\n",
    "plt.plot(t, x_plt)\n",
    "plt.title(name)\n",
    "plt.vlines(np.min(t) + len(t) * 0.25 * 0.7, ymin=min(x_plt), ymax=max(x_plt))\n",
    "plt.vlines(np.min(t) + len(t) * 0.25 * 0.8, ymin=min(x_plt), ymax=max(x_plt))\n",
    "if SAVE: \n",
    "    plt.savefig(os.path.join(SAVEDIR, 'data_{}.png'.format(name)))\n",
    "plt.show()"
   ]
  },
  {
   "cell_type": "markdown",
   "metadata": {},
   "source": [
    "### `sinx_sqrtx`"
   ]
  },
  {
   "cell_type": "code",
   "execution_count": null,
   "metadata": {},
   "outputs": [],
   "source": [
    "name = 'sinx_sqrtx'\n",
    "x = 20 * np.sqrt(t - np.min(t)) + 10 * np.sin(t) + np.random.normal(size=t.shape)\n",
    "save(x, name)\n",
    "\n",
    "x_plt = x\n",
    "plt.plot(t, x_plt)\n",
    "plt.title(name)\n",
    "plt.vlines(np.min(t) + len(t) * 0.25 * 0.7, ymin=min(x_plt), ymax=max(x_plt))\n",
    "plt.vlines(np.min(t) + len(t) * 0.25 * 0.8, ymin=min(x_plt), ymax=max(x_plt))\n",
    "if SAVE: \n",
    "    plt.savefig(os.path.join(SAVEDIR, 'data_{}.png'.format(name)))\n",
    "plt.show()"
   ]
  },
  {
   "cell_type": "code",
   "execution_count": null,
   "metadata": {},
   "outputs": [],
   "source": []
  }
 ],
 "metadata": {
  "interpreter": {
   "hash": "7a12ef40853a77491eccdb9a1bb9aaa93e95b349d1b015551cb0a45938f1a878"
  },
  "kernelspec": {
   "display_name": "Python 3.6.13 ('informer')",
   "language": "python",
   "name": "python3"
  },
  "language_info": {
   "codemirror_mode": {
    "name": "ipython",
    "version": 3
   },
   "file_extension": ".py",
   "mimetype": "text/x-python",
   "name": "python",
   "nbconvert_exporter": "python",
   "pygments_lexer": "ipython3",
   "version": "3.6.13"
  },
  "orig_nbformat": 4
 },
 "nbformat": 4,
 "nbformat_minor": 2
}
