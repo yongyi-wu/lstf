{
 "cells": [
  {
   "cell_type": "markdown",
   "metadata": {},
   "source": [
    "# <center>Visualizing Mean Square Errors of Transformers</center>"
   ]
  },
  {
   "cell_type": "code",
   "execution_count": null,
   "metadata": {},
   "outputs": [],
   "source": [
    "import os\n",
    "import re\n",
    "\n",
    "import matplotlib.pyplot as plt\n",
    "import numpy as np"
   ]
  },
  {
   "cell_type": "code",
   "execution_count": null,
   "metadata": {},
   "outputs": [],
   "source": [
    "SAVE = True\n",
    "SAVEDIR = 'img'\n",
    "BAR_WIDTH = 0.15\n",
    "\n",
    "loss_ptn = re.compile('.*\\[TEST\\]\\\\ttest_loss: (\\d+.\\d+)')"
   ]
  },
  {
   "cell_type": "markdown",
   "metadata": {},
   "source": [
    "## Synthetic Datasets"
   ]
  },
  {
   "cell_type": "code",
   "execution_count": null,
   "metadata": {},
   "outputs": [],
   "source": [
    "CKPTDIR = '/usr2/home/yongyiw/ckpt/lstf/Synthetic'\n",
    "D_MODEL = 512\n",
    "D_FF = 2048"
   ]
  },
  {
   "cell_type": "markdown",
   "metadata": {},
   "source": [
    "Let $\\mathcal{N} \\sim N(0, 1)$. \n",
    "\n",
    "+ `sinx`: $y = 10\\sin x + \\mathcal{N}$\n",
    "+ `x`: $y = x + \\mathcal{N}$\n",
    "+ `sinx_x`: $y = 10\\sin x + x + \\mathcal{N}$\n",
    "+ `sinx_sqrtx`: $y = 10\\sin x + 20\\sqrt{x - \\min(x)} + \\mathcal{N}$\n",
    "+ `sinx_x2_sym`: $y = 10\\sin x + (\\frac{x}{50})^2 + \\mathcal{N}$\n",
    "+ `sinx_x2_asym`: $y = 10\\sin x + (\\frac{x - \\min(x)}{30})^2 + \\mathcal{N}$\n",
    "+ `xsinx`: $y = e^{x \\mod 4} \\dot (10\\sin x + \\mathcal{N})$\n",
    "+ `sinx_sin2x_sin4x`: $y = 10(\\sin x + \\sin 2x + \\sin 4x) + \\mathcal{N}$\n",
    "+ `sinx_c`: $y = 10\\sin x + (-1)^{\\mathbb{I}[x \\mod 16 < 8]} 30 + \\mathcal{N}$"
   ]
  },
  {
   "cell_type": "markdown",
   "metadata": {},
   "source": [
    "### Everything Together"
   ]
  },
  {
   "cell_type": "markdown",
   "metadata": {},
   "source": [
    "#### With Trend"
   ]
  },
  {
   "cell_type": "code",
   "execution_count": null,
   "metadata": {},
   "outputs": [],
   "source": [
    "mses = []\n",
    "datasets = ['x', 'sinx_x', 'sinx_sqrtx', 'sinx_x2_sym', 'sinx_x2_asym']\n",
    "\n",
    "for dataset in datasets: \n",
    "    mses.append([])\n",
    "    logs = open(os.path.join(CKPTDIR, dataset, 'exp.log')).readlines()\n",
    "    for attn in ['autocorrelation', 'dot']: \n",
    "        mses[-1].append([])\n",
    "        for lwin in [25, 0]: \n",
    "            mses[-1][-1].append([])\n",
    "            config_ptn = re.compile('.*\\[CONFIG\\]\\\\t.*_attn{}_.*_dm{}_dff{}_.*_lw{}_'.format(attn, D_MODEL, D_FF, lwin))\n",
    "            index = None\n",
    "            for row in logs: \n",
    "                config_m = config_ptn.match(row)\n",
    "                if config_m is not None: \n",
    "                    assert index is None\n",
    "                    index = True\n",
    "                loss_m = loss_ptn.match(row)\n",
    "                if loss_m is not None and index is not None: \n",
    "                    mses[-1][-1][-1].append(float(loss_m[1]))\n",
    "                    index = None\n",
    "mses = np.array(mses).mean(-1)\n",
    "mses.shape # dataset, auto/attn, decomp/norm"
   ]
  },
  {
   "cell_type": "code",
   "execution_count": null,
   "metadata": {},
   "outputs": [],
   "source": [
    "xticks = np.arange(len(datasets))\n",
    "\n",
    "plt.figure(figsize=(12, 6))\n",
    "plt.bar(xticks - 1.5 * BAR_WIDTH, mses[:, 1, 1], width=BAR_WIDTH, label='Transformer')\n",
    "plt.bar(xticks - 0.5 * BAR_WIDTH, mses[:, 0, 1], width=BAR_WIDTH, label='+ AutoCorrelation')\n",
    "plt.bar(xticks + 0.5 * BAR_WIDTH, mses[:, 1, 0], width=BAR_WIDTH, label='+ Decomposition')\n",
    "plt.bar(xticks + 1.5 * BAR_WIDTH, mses[:, 0, 0], width=BAR_WIDTH, label='+ AutoCorrelation + Decomposition')\n",
    "plt.xticks(xticks, labels=datasets)\n",
    "plt.title('Trended Datasets (Univariate)')\n",
    "plt.xlabel('Prediction Length')\n",
    "plt.ylabel('Testing MSE')\n",
    "plt.legend(loc='upper left')\n",
    "if SAVE: \n",
    "    plt.savefig(os.path.join(SAVEDIR, 'mse_trended.png'))\n",
    "plt.show()"
   ]
  },
  {
   "cell_type": "markdown",
   "metadata": {},
   "source": [
    "#### Without Trend"
   ]
  },
  {
   "cell_type": "code",
   "execution_count": null,
   "metadata": {},
   "outputs": [],
   "source": [
    "mses = []\n",
    "datasets = ['sinx', 'xsinx', 'sinx_sin2x_sin4x', 'sinx_c']\n",
    "\n",
    "for dataset in datasets: \n",
    "    mses.append([])\n",
    "    logs = open(os.path.join(CKPTDIR, dataset, 'exp.log')).readlines()\n",
    "    for attn in ['autocorrelation', 'dot']: \n",
    "        mses[-1].append([])\n",
    "        for lwin in [25, 0]: \n",
    "            mses[-1][-1].append([])\n",
    "            config_ptn = re.compile('.*\\[CONFIG\\]\\\\t.*_attn{}_.*_dm{}_dff{}_.*_lw{}_'.format(attn, D_MODEL, D_FF, lwin))\n",
    "            index = None\n",
    "            for row in logs: \n",
    "                config_m = config_ptn.match(row)\n",
    "                if config_m is not None: \n",
    "                    assert index is None\n",
    "                    index = True\n",
    "                loss_m = loss_ptn.match(row)\n",
    "                if loss_m is not None and index is not None: \n",
    "                    mses[-1][-1][-1].append(float(loss_m[1]))\n",
    "                    index = None\n",
    "mses = np.array(mses).mean(-1)\n",
    "mses.shape # dataset, auto/attn, decomp/norm"
   ]
  },
  {
   "cell_type": "code",
   "execution_count": null,
   "metadata": {},
   "outputs": [],
   "source": [
    "xticks = np.arange(len(datasets))\n",
    "\n",
    "plt.figure(figsize=(12, 6))\n",
    "plt.bar(xticks - 1.5 * BAR_WIDTH, mses[:, 1, 1], width=BAR_WIDTH, label='Transformer')\n",
    "plt.bar(xticks - 0.5 * BAR_WIDTH, mses[:, 0, 1], width=BAR_WIDTH, label='+ AutoCorrelation')\n",
    "plt.bar(xticks + 0.5 * BAR_WIDTH, mses[:, 1, 0], width=BAR_WIDTH, label='+ Decomposition')\n",
    "plt.bar(xticks + 1.5 * BAR_WIDTH, mses[:, 0, 0], width=BAR_WIDTH, label='+ AutoCorrelation + Decomposition')\n",
    "plt.xticks(xticks, labels=datasets)\n",
    "plt.title('Untrended Datasets (Univariate)')\n",
    "plt.xlabel('Prediction Length')\n",
    "plt.ylabel('Testing MSE')\n",
    "plt.legend(loc='upper left')\n",
    "if SAVE: \n",
    "    plt.savefig(os.path.join(SAVEDIR, 'mse_untrended.png'))\n",
    "plt.show()"
   ]
  },
  {
   "cell_type": "markdown",
   "metadata": {},
   "source": [
    "### Decomposition Block"
   ]
  },
  {
   "cell_type": "markdown",
   "metadata": {},
   "source": [
    "#### With Trend"
   ]
  },
  {
   "cell_type": "code",
   "execution_count": null,
   "metadata": {},
   "outputs": [],
   "source": [
    "mses = []\n",
    "datasets = ['x', 'sinx_x', 'sinx_sqrtx', 'sinx_x2_sym', 'sinx_x2_asym']\n",
    "len_windows = [0, 5, 13, 25, 51]\n",
    "mapping = {lw: i for i, lw in enumerate(len_windows)}\n",
    "\n",
    "for dataset in datasets: \n",
    "    mses.append([[] for _ in range(len(len_windows))])\n",
    "    logs = open(os.path.join(CKPTDIR, dataset, 'exp.log')).readlines()\n",
    "    config_ptn = re.compile('.*\\[CONFIG\\]\\\\t.*_attnautocorrelation_.*_dm{}_dff{}_.*_lw(\\d+)_'.format(D_MODEL, D_FF, lwin))\n",
    "    index = None\n",
    "    for row in logs: \n",
    "        config_m = config_ptn.match(row)\n",
    "        if config_m is not None: \n",
    "            assert index is None\n",
    "            index = mapping[int(config_m[1])]\n",
    "        loss_m = loss_ptn.match(row)\n",
    "        if loss_m is not None and index is not None: \n",
    "            mses[-1][index].append(float(loss_m[1]))\n",
    "            index = None\n",
    "mses = np.array(mses).mean(-1)\n",
    "mses.shape # dataset, len_window"
   ]
  },
  {
   "cell_type": "code",
   "execution_count": null,
   "metadata": {},
   "outputs": [],
   "source": [
    "xticks = np.arange(len(datasets))\n",
    "\n",
    "plt.figure(figsize=(12, 6))\n",
    "for j, lw in enumerate(len_windows): \n",
    "    if lw == 0: \n",
    "        label = '+ AutoCorrelation'\n",
    "    else: \n",
    "        label = '+ AutoCorrelation + Decomposition: {}'.format(lw)\n",
    "    plt.bar(xticks + (j - 2) * BAR_WIDTH, mses[:, j], width=BAR_WIDTH, label=label)\n",
    "\n",
    "plt.ylim(0, 0.5)\n",
    "plt.xticks(xticks, labels=datasets)\n",
    "plt.title('LayerNorm vs Decomposition on Trended Datasets (Univariate)')\n",
    "plt.xlabel('Dataset')\n",
    "plt.ylabel('Testing MSE')\n",
    "plt.legend(loc='upper left')\n",
    "if SAVE: \n",
    "    plt.savefig(os.path.join(SAVEDIR, 'mse_trended_decomp.png'))\n",
    "plt.show()"
   ]
  },
  {
   "cell_type": "markdown",
   "metadata": {},
   "source": [
    "#### Without Trend"
   ]
  },
  {
   "cell_type": "code",
   "execution_count": null,
   "metadata": {},
   "outputs": [],
   "source": [
    "mses = []\n",
    "datasets = ['sinx', 'xsinx', 'sinx_sin2x_sin4x', 'sinx_c']\n",
    "len_windows = [0, 5, 13, 25, 51]\n",
    "mapping = {lw: i for i, lw in enumerate(len_windows)}\n",
    "\n",
    "for dataset in datasets: \n",
    "    mses.append([[] for _ in range(len(len_windows))])\n",
    "    logs = open(os.path.join(CKPTDIR, dataset, 'exp.log')).readlines()\n",
    "    config_ptn = re.compile('.*\\[CONFIG\\]\\\\t.*_attnautocorrelation_.*_dm{}_dff{}_.*_lw(\\d+)_'.format(D_MODEL, D_FF, lwin))\n",
    "    index = None\n",
    "    for row in logs: \n",
    "        config_m = config_ptn.match(row)\n",
    "        if config_m is not None: \n",
    "            assert index is None\n",
    "            index = mapping[int(config_m[1])]\n",
    "        loss_m = loss_ptn.match(row)\n",
    "        if loss_m is not None and index is not None: \n",
    "            mses[-1][index].append(float(loss_m[1]))\n",
    "            index = None\n",
    "mses = np.array(mses).mean(-1)\n",
    "mses.shape # dataset, len_window"
   ]
  },
  {
   "cell_type": "code",
   "execution_count": null,
   "metadata": {},
   "outputs": [],
   "source": [
    "xticks = np.arange(len(datasets))\n",
    "\n",
    "plt.figure(figsize=(12, 6))\n",
    "for j, lw in enumerate(len_windows): \n",
    "    if lw == 0: \n",
    "        label = '+ AutoCorrelation'\n",
    "    else: \n",
    "        label = '+ AutoCorrelation + Decomposition: {}'.format(lw)\n",
    "    plt.bar(xticks + (j - 2) * BAR_WIDTH, mses[:, j], width=BAR_WIDTH, label=label)\n",
    "\n",
    "plt.xticks(xticks, labels=datasets)\n",
    "plt.title('LayerNorm vs Decomposition on Untrended Datasets (Univariate)')\n",
    "plt.xlabel('Dataset')\n",
    "plt.ylabel('Testing MSE')\n",
    "plt.legend(loc='upper left')\n",
    "if SAVE: \n",
    "    plt.savefig(os.path.join(SAVEDIR, 'mse_untrended_decomp.png'))\n",
    "plt.show()"
   ]
  },
  {
   "cell_type": "markdown",
   "metadata": {},
   "source": [
    "### AutoCorrelation Block"
   ]
  },
  {
   "cell_type": "markdown",
   "metadata": {},
   "source": [
    "#### With Trend"
   ]
  },
  {
   "cell_type": "code",
   "execution_count": null,
   "metadata": {},
   "outputs": [],
   "source": [
    "mses = []\n",
    "datasets = ['x', 'sinx_x', 'sinx_sqrtx', 'sinx_x2_sym', 'sinx_x2_asym']\n",
    "attns = ['dot', 'autocorrelation']\n",
    "mapping = {attn: i for i, attn in enumerate(attns)}\n",
    "\n",
    "for dataset in datasets: \n",
    "    mses.append([[] for _ in range(len(attns))])\n",
    "    logs = open(os.path.join(CKPTDIR, dataset, 'exp.log')).readlines()\n",
    "    config_ptn = re.compile('.*\\[CONFIG\\]\\\\t.*_mautoformer_attn([^_]*)_.*_dm{}_dff{}_.*_lw25_'.format(D_MODEL, D_FF))\n",
    "    index = None\n",
    "    for row in logs: \n",
    "        config_m = config_ptn.match(row)\n",
    "        if config_m is not None: \n",
    "            assert index is None\n",
    "            index = mapping[config_m[1]]\n",
    "        loss_m = loss_ptn.match(row)\n",
    "        if loss_m is not None and index is not None: \n",
    "            mses[-1][index].append(float(loss_m[1]))\n",
    "            index = None\n",
    "mses = np.array(mses).mean(-1)\n",
    "mses.shape # dataset, attn"
   ]
  },
  {
   "cell_type": "code",
   "execution_count": null,
   "metadata": {},
   "outputs": [],
   "source": [
    "xticks = np.arange(len(datasets))\n",
    "\n",
    "plt.figure(figsize=(12, 6))\n",
    "plt.bar(xticks - BAR_WIDTH / 2, mses[:, 0], width=BAR_WIDTH, label='+ Decomposition')\n",
    "plt.bar(xticks + BAR_WIDTH / 2, mses[:, 1], width=BAR_WIDTH, label='+ AutoCorrelation + Decomposition')\n",
    "\n",
    "plt.ylim(0, 0.0175)\n",
    "plt.title('Attention vs AutoCorrelation on Trended Datasets (Univariate)')\n",
    "plt.xticks(xticks, labels=datasets)\n",
    "plt.xlabel('Dataset')\n",
    "plt.ylabel('Testing MSE')\n",
    "plt.legend(loc='upper left')\n",
    "if SAVE: \n",
    "    plt.savefig(os.path.join(SAVEDIR, 'mse_trended_attn.png'))\n",
    "plt.show()"
   ]
  },
  {
   "cell_type": "markdown",
   "metadata": {},
   "source": [
    "#### Without Trend"
   ]
  },
  {
   "cell_type": "code",
   "execution_count": null,
   "metadata": {},
   "outputs": [],
   "source": [
    "mses = []\n",
    "datasets = ['sinx', 'xsinx', 'sinx_sin2x_sin4x', 'sinx_c']\n",
    "attns = ['dot', 'autocorrelation']\n",
    "mapping = {attn: i for i, attn in enumerate(attns)}\n",
    "\n",
    "for dataset in datasets: \n",
    "    mses.append([[] for _ in range(len(attns))])\n",
    "    logs = open(os.path.join(CKPTDIR, dataset, 'exp.log')).readlines()\n",
    "    config_ptn = re.compile('.*\\[CONFIG\\]\\\\t.*_mautoformer_attn([^_]*)_.*_dm{}_dff{}_.*_lw25_'.format(D_MODEL, D_FF))\n",
    "    index = None\n",
    "    for row in logs: \n",
    "        config_m = config_ptn.match(row)\n",
    "        if config_m is not None: \n",
    "            assert index is None\n",
    "            index = mapping[config_m[1]]\n",
    "        loss_m = loss_ptn.match(row)\n",
    "        if loss_m is not None and index is not None: \n",
    "            mses[-1][index].append(float(loss_m[1]))\n",
    "            index = None\n",
    "mses = np.array(mses).mean(-1)\n",
    "mses.shape # dataset, attn"
   ]
  },
  {
   "cell_type": "code",
   "execution_count": null,
   "metadata": {},
   "outputs": [],
   "source": [
    "xticks = np.arange(len(datasets))\n",
    "\n",
    "plt.figure(figsize=(12, 6))\n",
    "plt.bar(xticks - BAR_WIDTH / 2, mses[:, 0], width=BAR_WIDTH, label='+ Decomposition')\n",
    "plt.bar(xticks + BAR_WIDTH / 2, mses[:, 1], width=BAR_WIDTH, label='+ AutoCorrelation + Decomposition')\n",
    "\n",
    "plt.title('Attention vs AutoCorrelation on Untrended Datasets (Univariate)')\n",
    "plt.xticks(xticks, labels=datasets)\n",
    "plt.xlabel('Dataset')\n",
    "plt.ylabel('Testing MSE')\n",
    "plt.legend(loc='upper left')\n",
    "if SAVE: \n",
    "    plt.savefig(os.path.join(SAVEDIR, 'mse_untrended_attn.png'))\n",
    "plt.show()"
   ]
  },
  {
   "cell_type": "markdown",
   "metadata": {},
   "source": [
    "## Real-World Datasets"
   ]
  },
  {
   "cell_type": "code",
   "execution_count": null,
   "metadata": {},
   "outputs": [],
   "source": [
    "CKPTDIR = '/usr2/home/yongyiw/ckpt/lstf'\n",
    "N_LEN_PRED = 4\n",
    "DATASETS = ['ETTm2', 'Electricity', 'Exchange', 'Traffic', 'Weather', 'ILI']"
   ]
  },
  {
   "cell_type": "code",
   "execution_count": null,
   "metadata": {},
   "outputs": [],
   "source": [
    "xticks = np.arange(N_LEN_PRED)\n",
    "\n",
    "mses = []\n",
    "for dataset in DATASETS: \n",
    "    logs = open(os.path.join(CKPTDIR, dataset, 'autoformer', 'exp.log')).readlines()\n",
    "    mses.append([])\n",
    "    for attn in ['autocorrelation', 'dot']: \n",
    "        mses[-1].append([])\n",
    "        for lwin in [25, 0]: \n",
    "            config_ptn = re.compile('.*\\[CONFIG\\]\\\\t.*_lp(\\d+)_.*_attn{}_.*_lw{}_'.format(attn, lwin))\n",
    "            mses[-1][-1].append([[], [], [], []])\n",
    "            index = None\n",
    "            for row in logs: \n",
    "                config_m = config_ptn.match(row)\n",
    "                if config_m is not None: \n",
    "                    assert index is None\n",
    "                    if dataset != 'ILI': \n",
    "                        mapping = {96: 0, 192: 1, 336: 2, 720: 3}\n",
    "                    else: \n",
    "                        mapping = {24: 0, 36:1, 48: 2, 60: 3}\n",
    "                    index = mapping[int(config_m[1])]\n",
    "                loss_m = loss_ptn.match(row)\n",
    "                if loss_m is not None and index is not None: \n",
    "                    mses[-1][-1][-1][index].append(float(loss_m[1]))\n",
    "                    index = None\n",
    "mses = np.array(mses).mean(-1)\n",
    "mses.shape # dataset, auto/attn, decomp/norm, len_pred"
   ]
  },
  {
   "cell_type": "code",
   "execution_count": null,
   "metadata": {},
   "outputs": [],
   "source": [
    "offset = {\n",
    "    'Transformer': -1.5, \n",
    "    '+ AutoCorrelation': -0.5, \n",
    "    '+ Decomposition': 0.5, \n",
    "    '+ AutoCorrelation + Decomposition': 1.5\n",
    "}\n",
    "\n",
    "for i, dataset in enumerate(DATASETS): \n",
    "    plt.figure(figsize=(12, 6))\n",
    "    plt.bar(xticks - 1.5 * BAR_WIDTH, mses[i][1][1], width=BAR_WIDTH, label='Transformer')\n",
    "    plt.bar(xticks - 0.5 * BAR_WIDTH, mses[i][0][1], width=BAR_WIDTH, label='+ AutoCorrelation')\n",
    "    plt.bar(xticks + 0.5 * BAR_WIDTH, mses[i][1][0], width=BAR_WIDTH, label='+ Decomposition')\n",
    "    plt.bar(xticks + 1.5 * BAR_WIDTH, mses[i][0][0], width=BAR_WIDTH, label='+ AutoCorrelation + Decomposition')\n",
    "\n",
    "    plt.ylim(0, 1.25 * np.max(mses[i]))\n",
    "    plt.xticks(xticks, labels=[96, 192, 336, 720] if dataset != 'ILI' else [24, 36, 48, 60])\n",
    "    plt.title('{} Dataset (Multivariate)'.format(dataset))\n",
    "    plt.xlabel('Prediction Length')\n",
    "    plt.ylabel('Testing MSE')\n",
    "    plt.legend(loc='upper left')\n",
    "    if SAVE: \n",
    "        plt.savefig(os.path.join(SAVEDIR, 'mse_{}.png'.format(dataset)))\n",
    "    plt.show()"
   ]
  },
  {
   "cell_type": "code",
   "execution_count": null,
   "metadata": {},
   "outputs": [],
   "source": []
  }
 ],
 "metadata": {
  "interpreter": {
   "hash": "88157399be3731fa3f1a51237a364c28003aff1d9c9b70d08c3fa21b6a9afecf"
  },
  "kernelspec": {
   "display_name": "Python 3.6.13 ('lstf')",
   "language": "python",
   "name": "python3"
  },
  "language_info": {
   "codemirror_mode": {
    "name": "ipython",
    "version": 3
   },
   "file_extension": ".py",
   "mimetype": "text/x-python",
   "name": "python",
   "nbconvert_exporter": "python",
   "pygments_lexer": "ipython3",
   "version": "3.6.13"
  },
  "orig_nbformat": 4
 },
 "nbformat": 4,
 "nbformat_minor": 2
}
